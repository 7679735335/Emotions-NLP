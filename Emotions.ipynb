{
  "nbformat": 4,
  "nbformat_minor": 0,
  "metadata": {
    "colab": {
      "name": "Emotions.ipynb",
      "provenance": []
    },
    "kernelspec": {
      "name": "python3",
      "display_name": "Python 3"
    },
    "language_info": {
      "name": "python"
    }
  },
  "cells": [
    {
      "cell_type": "code",
      "execution_count": 2,
      "metadata": {
        "colab": {
          "base_uri": "https://localhost:8080/"
        },
        "id": "7x8fdp7zy16i",
        "outputId": "7ddca74a-0189-47f1-b6c0-fc3d749d7610"
      },
      "outputs": [
        {
          "output_type": "stream",
          "name": "stdout",
          "text": [
            "mkdir: cannot create directory ‘/root/.kaggle’: File exists\n"
          ]
        }
      ],
      "source": [
        "! mkdir ~/.kaggle\n",
        "\n",
        "! cp kaggle.json ~/.kaggle/"
      ]
    },
    {
      "cell_type": "code",
      "source": [
        "\n",
        "! chmod 600 ~/.kaggle/kaggle.json"
      ],
      "metadata": {
        "id": "KIcy1ZO7zItk"
      },
      "execution_count": 3,
      "outputs": []
    },
    {
      "cell_type": "code",
      "source": [
        "! kaggle datasets download -d praveengovi/emotions-dataset-for-nlp"
      ],
      "metadata": {
        "colab": {
          "base_uri": "https://localhost:8080/"
        },
        "id": "9TUWLU5zzLCl",
        "outputId": "584faa0e-4b32-4f97-f062-85be813fd79f"
      },
      "execution_count": 4,
      "outputs": [
        {
          "output_type": "stream",
          "name": "stdout",
          "text": [
            "Downloading emotions-dataset-for-nlp.zip to /content\n",
            "\r  0% 0.00/721k [00:00<?, ?B/s]\n",
            "\r100% 721k/721k [00:00<00:00, 23.6MB/s]\n"
          ]
        }
      ]
    },
    {
      "cell_type": "code",
      "source": [
        "import zipfile as zp \n",
        "with zp.ZipFile('/content/emotions-dataset-for-nlp.zip', 'r') as zip_ref:\n",
        "    zip_ref.extractall()"
      ],
      "metadata": {
        "id": "xwwbvLb9zPQT"
      },
      "execution_count": 5,
      "outputs": []
    },
    {
      "cell_type": "code",
      "source": [
        "import pandas as pd\n",
        "\n",
        "messages = pd.read_csv('/content/val.txt', sep=';',\n",
        "                           names=[\"Text\", \"mood\"])"
      ],
      "metadata": {
        "id": "85DTC2oHzVgK"
      },
      "execution_count": 65,
      "outputs": []
    },
    {
      "cell_type": "code",
      "source": [
        "messages.head()"
      ],
      "metadata": {
        "colab": {
          "base_uri": "https://localhost:8080/",
          "height": 206
        },
        "id": "pmN9tc7H0Xzy",
        "outputId": "952103f1-a973-4542-b8af-f8b31e132ce9"
      },
      "execution_count": 66,
      "outputs": [
        {
          "output_type": "execute_result",
          "data": {
            "text/html": [
              "\n",
              "  <div id=\"df-fdde35c5-6314-48a7-9a5a-28081bb10a98\">\n",
              "    <div class=\"colab-df-container\">\n",
              "      <div>\n",
              "<style scoped>\n",
              "    .dataframe tbody tr th:only-of-type {\n",
              "        vertical-align: middle;\n",
              "    }\n",
              "\n",
              "    .dataframe tbody tr th {\n",
              "        vertical-align: top;\n",
              "    }\n",
              "\n",
              "    .dataframe thead th {\n",
              "        text-align: right;\n",
              "    }\n",
              "</style>\n",
              "<table border=\"1\" class=\"dataframe\">\n",
              "  <thead>\n",
              "    <tr style=\"text-align: right;\">\n",
              "      <th></th>\n",
              "      <th>Text</th>\n",
              "      <th>mood</th>\n",
              "    </tr>\n",
              "  </thead>\n",
              "  <tbody>\n",
              "    <tr>\n",
              "      <th>0</th>\n",
              "      <td>im feeling quite sad and sorry for myself but ...</td>\n",
              "      <td>sadness</td>\n",
              "    </tr>\n",
              "    <tr>\n",
              "      <th>1</th>\n",
              "      <td>i feel like i am still looking at a blank canv...</td>\n",
              "      <td>sadness</td>\n",
              "    </tr>\n",
              "    <tr>\n",
              "      <th>2</th>\n",
              "      <td>i feel like a faithful servant</td>\n",
              "      <td>love</td>\n",
              "    </tr>\n",
              "    <tr>\n",
              "      <th>3</th>\n",
              "      <td>i am just feeling cranky and blue</td>\n",
              "      <td>anger</td>\n",
              "    </tr>\n",
              "    <tr>\n",
              "      <th>4</th>\n",
              "      <td>i can have for a treat or if i am feeling festive</td>\n",
              "      <td>joy</td>\n",
              "    </tr>\n",
              "  </tbody>\n",
              "</table>\n",
              "</div>\n",
              "      <button class=\"colab-df-convert\" onclick=\"convertToInteractive('df-fdde35c5-6314-48a7-9a5a-28081bb10a98')\"\n",
              "              title=\"Convert this dataframe to an interactive table.\"\n",
              "              style=\"display:none;\">\n",
              "        \n",
              "  <svg xmlns=\"http://www.w3.org/2000/svg\" height=\"24px\"viewBox=\"0 0 24 24\"\n",
              "       width=\"24px\">\n",
              "    <path d=\"M0 0h24v24H0V0z\" fill=\"none\"/>\n",
              "    <path d=\"M18.56 5.44l.94 2.06.94-2.06 2.06-.94-2.06-.94-.94-2.06-.94 2.06-2.06.94zm-11 1L8.5 8.5l.94-2.06 2.06-.94-2.06-.94L8.5 2.5l-.94 2.06-2.06.94zm10 10l.94 2.06.94-2.06 2.06-.94-2.06-.94-.94-2.06-.94 2.06-2.06.94z\"/><path d=\"M17.41 7.96l-1.37-1.37c-.4-.4-.92-.59-1.43-.59-.52 0-1.04.2-1.43.59L10.3 9.45l-7.72 7.72c-.78.78-.78 2.05 0 2.83L4 21.41c.39.39.9.59 1.41.59.51 0 1.02-.2 1.41-.59l7.78-7.78 2.81-2.81c.8-.78.8-2.07 0-2.86zM5.41 20L4 18.59l7.72-7.72 1.47 1.35L5.41 20z\"/>\n",
              "  </svg>\n",
              "      </button>\n",
              "      \n",
              "  <style>\n",
              "    .colab-df-container {\n",
              "      display:flex;\n",
              "      flex-wrap:wrap;\n",
              "      gap: 12px;\n",
              "    }\n",
              "\n",
              "    .colab-df-convert {\n",
              "      background-color: #E8F0FE;\n",
              "      border: none;\n",
              "      border-radius: 50%;\n",
              "      cursor: pointer;\n",
              "      display: none;\n",
              "      fill: #1967D2;\n",
              "      height: 32px;\n",
              "      padding: 0 0 0 0;\n",
              "      width: 32px;\n",
              "    }\n",
              "\n",
              "    .colab-df-convert:hover {\n",
              "      background-color: #E2EBFA;\n",
              "      box-shadow: 0px 1px 2px rgba(60, 64, 67, 0.3), 0px 1px 3px 1px rgba(60, 64, 67, 0.15);\n",
              "      fill: #174EA6;\n",
              "    }\n",
              "\n",
              "    [theme=dark] .colab-df-convert {\n",
              "      background-color: #3B4455;\n",
              "      fill: #D2E3FC;\n",
              "    }\n",
              "\n",
              "    [theme=dark] .colab-df-convert:hover {\n",
              "      background-color: #434B5C;\n",
              "      box-shadow: 0px 1px 3px 1px rgba(0, 0, 0, 0.15);\n",
              "      filter: drop-shadow(0px 1px 2px rgba(0, 0, 0, 0.3));\n",
              "      fill: #FFFFFF;\n",
              "    }\n",
              "  </style>\n",
              "\n",
              "      <script>\n",
              "        const buttonEl =\n",
              "          document.querySelector('#df-fdde35c5-6314-48a7-9a5a-28081bb10a98 button.colab-df-convert');\n",
              "        buttonEl.style.display =\n",
              "          google.colab.kernel.accessAllowed ? 'block' : 'none';\n",
              "\n",
              "        async function convertToInteractive(key) {\n",
              "          const element = document.querySelector('#df-fdde35c5-6314-48a7-9a5a-28081bb10a98');\n",
              "          const dataTable =\n",
              "            await google.colab.kernel.invokeFunction('convertToInteractive',\n",
              "                                                     [key], {});\n",
              "          if (!dataTable) return;\n",
              "\n",
              "          const docLinkHtml = 'Like what you see? Visit the ' +\n",
              "            '<a target=\"_blank\" href=https://colab.research.google.com/notebooks/data_table.ipynb>data table notebook</a>'\n",
              "            + ' to learn more about interactive tables.';\n",
              "          element.innerHTML = '';\n",
              "          dataTable['output_type'] = 'display_data';\n",
              "          await google.colab.output.renderOutput(dataTable, element);\n",
              "          const docLink = document.createElement('div');\n",
              "          docLink.innerHTML = docLinkHtml;\n",
              "          element.appendChild(docLink);\n",
              "        }\n",
              "      </script>\n",
              "    </div>\n",
              "  </div>\n",
              "  "
            ],
            "text/plain": [
              "                                                Text     mood\n",
              "0  im feeling quite sad and sorry for myself but ...  sadness\n",
              "1  i feel like i am still looking at a blank canv...  sadness\n",
              "2                     i feel like a faithful servant     love\n",
              "3                  i am just feeling cranky and blue    anger\n",
              "4  i can have for a treat or if i am feeling festive      joy"
            ]
          },
          "metadata": {},
          "execution_count": 66
        }
      ]
    },
    {
      "cell_type": "code",
      "source": [
        "messages.isnull().sum()"
      ],
      "metadata": {
        "colab": {
          "base_uri": "https://localhost:8080/"
        },
        "id": "GK4sYeXt0Zyg",
        "outputId": "641f2e3d-ca4e-47ff-9048-dc4bae8336f5"
      },
      "execution_count": 67,
      "outputs": [
        {
          "output_type": "execute_result",
          "data": {
            "text/plain": [
              "Text    0\n",
              "mood    0\n",
              "dtype: int64"
            ]
          },
          "metadata": {},
          "execution_count": 67
        }
      ]
    },
    {
      "cell_type": "code",
      "source": [
        "import re\n",
        "import nltk\n",
        "nltk.download('stopwords')"
      ],
      "metadata": {
        "colab": {
          "base_uri": "https://localhost:8080/"
        },
        "id": "xxGIQYlN08zB",
        "outputId": "1d3f2dd6-f564-4004-c1e5-b70e323a262f"
      },
      "execution_count": 68,
      "outputs": [
        {
          "output_type": "stream",
          "name": "stdout",
          "text": [
            "[nltk_data] Downloading package stopwords to /root/nltk_data...\n",
            "[nltk_data]   Package stopwords is already up-to-date!\n"
          ]
        },
        {
          "output_type": "execute_result",
          "data": {
            "text/plain": [
              "True"
            ]
          },
          "metadata": {},
          "execution_count": 68
        }
      ]
    },
    {
      "cell_type": "code",
      "source": [
        "#nltk.download(\"stopwords\") # in order to extract stopwords\n",
        "lemma=nltk.WordNetLemmatizer()\n",
        "nltk.download('punkt')\n",
        "nltk.download('wordnet')"
      ],
      "metadata": {
        "colab": {
          "base_uri": "https://localhost:8080/"
        },
        "id": "5IfmbgMm6JcO",
        "outputId": "c70b59c5-1121-4ae9-ecb6-2710cfe72668"
      },
      "execution_count": 69,
      "outputs": [
        {
          "output_type": "stream",
          "name": "stdout",
          "text": [
            "[nltk_data] Downloading package punkt to /root/nltk_data...\n",
            "[nltk_data]   Package punkt is already up-to-date!\n",
            "[nltk_data] Downloading package wordnet to /root/nltk_data...\n",
            "[nltk_data]   Package wordnet is already up-to-date!\n"
          ]
        },
        {
          "output_type": "execute_result",
          "data": {
            "text/plain": [
              "True"
            ]
          },
          "metadata": {},
          "execution_count": 69
        }
      ]
    },
    {
      "cell_type": "code",
      "source": [
        "text_list=[]\n",
        "for text in messages.Text:\n",
        "    text=re.sub(\"[^a-zA-Z]\",\" \",text) # extracting unnecesary characters\n",
        "    text=text.lower() #makes characters lowercase\n",
        "    text=nltk.word_tokenize(text) # splits all the words\n",
        "    text=[word for word in text if not word in set(stopwords.words(\"english\"))] # extract stopwords\n",
        "    text=[lemma.lemmatize(word) for word in text] # Lemmatisation\n",
        "    text=\" \".join(text) \n",
        "    text_list.append(text)"
      ],
      "metadata": {
        "id": "XPOnD2_n6Pga"
      },
      "execution_count": 70,
      "outputs": []
    },
    {
      "cell_type": "markdown",
      "source": [
        "#@title Default title text\n",
        "from nltk.corpus import stopwords\n",
        "from nltk.stem.porter import PorterStemmer\n",
        "ps = PorterStemmer()\n",
        "corpus = []\n",
        "for i in range(0, len(messages)):\n",
        "    review = re.sub('[^a-zA-Z]', ' ', messages['Text'][i])\n",
        "    review = review.lower()\n",
        "    review = review.split()\n",
        "    \n",
        "    review = [ps.stem(word) for word in review if not word in stopwords.words('english')]\n",
        "    review = ' '.join(review)\n",
        "    corpus.append(review)"
      ],
      "metadata": {
        "id": "zVIzfqci6-e_"
      }
    },
    {
      "cell_type": "code",
      "source": [
        "from sklearn.feature_extraction.text import CountVectorizer\n",
        "cv = CountVectorizer(max_features=2500)\n",
        "X = cv.fit_transform(text_list).toarray()"
      ],
      "metadata": {
        "id": "RMMGDZW019kt"
      },
      "execution_count": 71,
      "outputs": []
    },
    {
      "cell_type": "code",
      "source": [
        "messages['mood'].unique()"
      ],
      "metadata": {
        "colab": {
          "base_uri": "https://localhost:8080/"
        },
        "id": "8iLxI88Z4Y6y",
        "outputId": "714b937e-a2cb-43d9-f2cd-6bd16025999a"
      },
      "execution_count": 72,
      "outputs": [
        {
          "output_type": "execute_result",
          "data": {
            "text/plain": [
              "array(['sadness', 'love', 'anger', 'joy', 'fear', 'surprise'],\n",
              "      dtype=object)"
            ]
          },
          "metadata": {},
          "execution_count": 72
        }
      ]
    },
    {
      "cell_type": "code",
      "source": [
        "messages=messages.replace({'mood': {'sadness': 0, 'love': 1,'anger': 2,'joy': 3,'fear': 4,'surprise': 5}})"
      ],
      "metadata": {
        "id": "26Rjv9VZ42ip"
      },
      "execution_count": 73,
      "outputs": []
    },
    {
      "cell_type": "code",
      "source": [
        "y=messages.iloc[:,1].values"
      ],
      "metadata": {
        "id": "lLRyr7c_2II_"
      },
      "execution_count": 74,
      "outputs": []
    },
    {
      "cell_type": "code",
      "source": [
        "y"
      ],
      "metadata": {
        "colab": {
          "base_uri": "https://localhost:8080/"
        },
        "id": "3yTFv7N42gz0",
        "outputId": "8618f417-2367-4f89-9342-ed1de20f2d30"
      },
      "execution_count": 75,
      "outputs": [
        {
          "output_type": "execute_result",
          "data": {
            "text/plain": [
              "array([0, 0, 1, ..., 3, 3, 3])"
            ]
          },
          "metadata": {},
          "execution_count": 75
        }
      ]
    },
    {
      "cell_type": "code",
      "source": [
        "from sklearn.model_selection import train_test_split\n",
        "X_train, X_test, y_train, y_test = train_test_split(X, y, test_size = 0.20, random_state = 0)"
      ],
      "metadata": {
        "id": "TrhJEX162SoJ"
      },
      "execution_count": 76,
      "outputs": []
    },
    {
      "cell_type": "code",
      "source": [
        "\n",
        "from sklearn.naive_bayes import MultinomialNB\n",
        "spam_detect_model = MultinomialNB().fit(X_train, y_train)\n",
        "\n",
        "y_pred=spam_detect_model.predict(X_test)\n"
      ],
      "metadata": {
        "id": "eiZD7R8q2atS"
      },
      "execution_count": 77,
      "outputs": []
    },
    {
      "cell_type": "code",
      "source": [
        "from sklearn.metrics import r2_score\n",
        "r=round(r2_score(y_test, y_pred),2)*100\n",
        "print(\"accuracy of this model is :\",int(r),\"%\")"
      ],
      "metadata": {
        "colab": {
          "base_uri": "https://localhost:8080/"
        },
        "id": "PpBeuHxS3hyV",
        "outputId": "6623b0d8-2598-48f2-f322-839bb655a8da"
      },
      "execution_count": 78,
      "outputs": [
        {
          "output_type": "stream",
          "name": "stdout",
          "text": [
            "accuracy of this model is : 7 %\n"
          ]
        }
      ]
    },
    {
      "cell_type": "code",
      "source": [
        ""
      ],
      "metadata": {
        "colab": {
          "base_uri": "https://localhost:8080/"
        },
        "id": "yQaYS-Af3vA_",
        "outputId": "ecc69ab1-89b8-43cd-b7f2-9a202939ae2e"
      },
      "execution_count": 51,
      "outputs": [
        {
          "output_type": "execute_result",
          "data": {
            "text/plain": [
              "array([3, 0, 3, 3, 0, 0, 3, 0, 3, 4, 0, 3, 3, 3, 3, 3, 3, 0, 3, 3, 0, 3,\n",
              "       3, 3, 0, 0, 2, 0, 0, 3, 0, 3, 3, 0, 0, 3, 3, 3, 3, 4, 3, 3, 3, 0,\n",
              "       3, 3, 3, 0, 3, 0, 2, 1, 0, 1, 3, 0, 0, 3, 0, 0, 3, 0, 3, 3, 0, 2,\n",
              "       0, 0, 3, 0, 3, 3, 0, 2, 3, 3, 3, 3, 3, 0, 3, 3, 4, 3, 3, 3, 3, 3,\n",
              "       3, 3, 0, 0, 0, 0, 0, 3, 0, 0, 3, 0, 3, 0, 0, 2, 0, 3, 3, 0, 0, 2,\n",
              "       0, 1, 0, 3, 0, 0, 3, 0, 0, 0, 0, 3, 3, 0, 3, 0, 2, 3, 0, 4, 0, 1,\n",
              "       0, 3, 4, 3, 3, 0, 0, 3, 3, 3, 0, 3, 1, 3, 3, 2, 0, 0, 3, 3, 0, 1,\n",
              "       3, 3, 0, 3, 0, 0, 0, 0, 3, 0, 3, 0, 2, 4, 0, 0, 3, 3, 0, 0, 0, 3,\n",
              "       0, 0, 3, 3, 3, 3, 0, 3, 3, 3, 0, 3, 3, 4, 0, 0, 2, 0, 2, 1, 4, 0,\n",
              "       3, 0, 0, 3, 3, 3, 3, 0, 4, 3, 3, 3, 2, 0, 3, 0, 0, 1, 3, 0, 0, 3,\n",
              "       0, 0, 3, 4, 3, 1, 3, 0, 0, 3, 3, 0, 1, 2, 3, 3, 0, 0, 0, 0, 0, 0,\n",
              "       4, 0, 3, 3, 3, 0, 3, 3, 0, 0, 3, 3, 2, 3, 3, 0, 0, 3, 1, 2, 3, 3,\n",
              "       0, 0, 0, 3, 3, 0, 0, 3, 3, 3, 3, 3, 3, 0, 4, 0, 3, 3, 1, 2, 3, 3,\n",
              "       0, 3, 0, 3, 0, 0, 2, 2, 0, 0, 2, 3, 3, 2, 0, 3, 2, 3, 0, 3, 0, 3,\n",
              "       3, 0, 3, 3, 0, 0, 0, 3, 2, 3, 0, 3, 3, 3, 3, 0, 3, 3, 3, 0, 0, 3,\n",
              "       3, 3, 4, 3, 2, 3, 3, 3, 3, 3, 3, 2, 3, 3, 3, 0, 3, 3, 0, 0, 2, 3,\n",
              "       3, 3, 3, 0, 3, 0, 0, 3, 0, 0, 2, 3, 2, 2, 2, 2, 3, 3, 2, 3, 3, 3,\n",
              "       3, 0, 0, 3, 3, 0, 3, 2, 1, 3, 0, 3, 3, 3, 3, 3, 2, 3, 0, 3, 3, 3,\n",
              "       0, 0, 4, 0])"
            ]
          },
          "metadata": {},
          "execution_count": 51
        }
      ]
    },
    {
      "cell_type": "code",
      "source": [
        ""
      ],
      "metadata": {
        "id": "JMElN6xf53pu"
      },
      "execution_count": null,
      "outputs": []
    }
  ]
}